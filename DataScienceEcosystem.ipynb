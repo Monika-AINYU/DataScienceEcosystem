{
 "cells": [
  {
   "cell_type": "markdown",
   "id": "2d4e9612-0dab-4e2f-85e0-fa3b398a1ebb",
   "metadata": {},
   "source": [
    "# Data Science Tools and Ecosystem"
   ]
  },
  {
   "cell_type": "markdown",
   "id": "23346b75-0770-4c49-8d7d-d5741bb1b9a4",
   "metadata": {},
   "source": []
  },
  {
   "cell_type": "markdown",
   "id": "329d3b8f-e2eb-4911-b2e2-a420e0e74102",
   "metadata": {},
   "source": [
    "In this notebook, Data Science Tools and Ecosystem are summarized."
   ]
  },
  {
   "cell_type": "markdown",
   "id": "440cc459-8103-40db-8281-83da8d2b48ad",
   "metadata": {},
   "source": []
  },
  {
   "cell_type": "markdown",
   "id": "4742751c-227c-479a-83ed-4c9cc650a190",
   "metadata": {},
   "source": [
    "Some of the popular languages that Data Scientists use are:\n",
    "\n",
    "1. Python  \n",
    "2. R  \n",
    "3. SQL  \n",
    "4. Julia  \n",
    "5. Java  "
   ]
  },
  {
   "cell_type": "markdown",
   "id": "a2b56fa5-9850-4d98-8473-565e78f8e101",
   "metadata": {},
   "source": [
    "Some of the commonly used libraries used by Data Scientists include:\n",
    "1. Pandas\n",
    "2. NumPy\n",
    "3. Matplotlib\n",
    "4. Scikit-learn\n",
    "5. TensorFlow"
   ]
  },
  {
   "cell_type": "markdown",
   "id": "f684ad2b-ef13-4eef-971d-4346d30dd73b",
   "metadata": {},
   "source": []
  },
  {
   "cell_type": "markdown",
   "id": "4226e069-8c8e-42e8-8ba5-58e0a79e16ee",
   "metadata": {},
   "source": [
    "| **Data Science Tools**         |\n",
    "|--------------------------------|\n",
    "| Jupyter Notebook               |\n",
    "| RStudio                        |\n",
    "| Apache Zeppelin                |"
   ]
  },
  {
   "cell_type": "code",
   "execution_count": null,
   "id": "2f106c25-26a7-463f-8835-cd2cb286aba1",
   "metadata": {},
   "outputs": [],
   "source": []
  },
  {
   "cell_type": "markdown",
   "id": "4e46c569-f7f1-46b5-add3-b6cd27a9d21f",
   "metadata": {},
   "source": [
    "### Below are a few examples of evaluating arithmetic expressions in Python."
   ]
  },
  {
   "cell_type": "code",
   "execution_count": 7,
   "id": "d0051a4d-7f9b-43ee-99b2-d3a15651b1a6",
   "metadata": {},
   "outputs": [
    {
     "data": {
      "text/plain": [
       "17"
      ]
     },
     "execution_count": 7,
     "metadata": {},
     "output_type": "execute_result"
    }
   ],
   "source": [
    "# This is a simple arithmetic expression to multiply then add integers\n",
    "(3 * 4) + 5"
   ]
  },
  {
   "cell_type": "code",
   "execution_count": 9,
   "id": "805a9a8b-a0b1-4d6d-9c3d-25c2bbeec195",
   "metadata": {},
   "outputs": [
    {
     "data": {
      "text/plain": [
       "3.3333333333333335"
      ]
     },
     "execution_count": 9,
     "metadata": {},
     "output_type": "execute_result"
    }
   ],
   "source": [
    "# This will convert 200 minutes to hours by dividing by 60\n",
    "200 / 60"
   ]
  },
  {
   "cell_type": "markdown",
   "id": "f5eb0652-bd9c-48d1-91fc-87328b32b6e1",
   "metadata": {},
   "source": [
    "**Objectives:**\n",
    "\n",
    "- List popular languages for Data Science.\n",
    "- List commonly used libraries for Data Science.\n",
    "- List open source tools for Data Science.\n",
    "- Demonstrate arithmetic expressions in Python.\n",
    "- Convert minutes to hours using Python."
   ]
  },
  {
   "cell_type": "code",
   "execution_count": null,
   "id": "b708358e-f766-441c-8e65-c9c92569ca5c",
   "metadata": {},
   "outputs": [],
   "source": []
  },
  {
   "cell_type": "markdown",
   "id": "d02a44c1-f44f-41ea-a440-10cf2240c5b5",
   "metadata": {},
   "source": [
    "## Author\n",
    "\n",
    "Sabina Ahmadova"
   ]
  },
  {
   "cell_type": "code",
   "execution_count": null,
   "id": "0bf86d09-63df-4040-8447-66b8af80a57c",
   "metadata": {},
   "outputs": [],
   "source": []
  }
 ],
 "metadata": {
  "kernelspec": {
   "display_name": "Python [conda env:base] *",
   "language": "python",
   "name": "conda-base-py"
  },
  "language_info": {
   "codemirror_mode": {
    "name": "ipython",
    "version": 3
   },
   "file_extension": ".py",
   "mimetype": "text/x-python",
   "name": "python",
   "nbconvert_exporter": "python",
   "pygments_lexer": "ipython3",
   "version": "3.12.7"
  }
 },
 "nbformat": 4,
 "nbformat_minor": 5
}
